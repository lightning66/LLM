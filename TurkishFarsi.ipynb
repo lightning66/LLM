{
 "cells": [
  {
   "cell_type": "markdown",
   "id": "6e91b509-2cc4-4b7c-a4ca-fe901b4540fd",
   "metadata": {},
   "source": [
    "### Definition:"
   ]
  },
  {
   "cell_type": "markdown",
   "id": "fbb853ac-39f0-4e1c-ab2f-53d95c4f854d",
   "metadata": {},
   "source": [
    "In this application, Turkish and Farsi languages are converted to each other. It is a 2 way translation. <br>\n",
    "The goal is to perform translation in the shortest way possible."
   ]
  },
  {
   "cell_type": "markdown",
   "id": "17e49f28-5547-4e72-95d6-bfac9a6f192b",
   "metadata": {},
   "source": [
    "### Structure:"
   ]
  },
  {
   "cell_type": "markdown",
   "id": "67034c34-53be-4d88-8708-d83ffd566aed",
   "metadata": {},
   "source": [
    "Speak a Language   -->   Transcribe it   -->    Convert to the other language    -->   Text to speech conversion"
   ]
  },
  {
   "cell_type": "code",
   "execution_count": 3,
   "id": "d0154ab1-58cb-419a-9cd2-aa07ea737353",
   "metadata": {},
   "outputs": [],
   "source": [
    "#Import\n",
    "# imports\n",
    "import os\n",
    "import json\n",
    "from dotenv import load_dotenv\n",
    "from openai import OpenAI\n",
    "import gradio as gr"
   ]
  },
  {
   "cell_type": "code",
   "execution_count": 4,
   "id": "0521905d-b62c-49cb-a920-405b2f3e9843",
   "metadata": {},
   "outputs": [
    {
     "name": "stdout",
     "output_type": "stream",
     "text": [
      "OpenAI API Key exists and begins sk-proj-\n"
     ]
    }
   ],
   "source": [
    "# Initialization\n",
    "load_dotenv(override=True)\n",
    "\n",
    "openai_api_key = os.getenv('OPENAI_API_KEY')\n",
    "if openai_api_key:\n",
    "    print(f\"OpenAI API Key exists and begins {openai_api_key[:8]}\")\n",
    "else:\n",
    "    print(\"OpenAI API Key not set\")\n",
    "    \n",
    "MODEL = \"gpt-4o-mini\"\n",
    "openai = OpenAI()"
   ]
  },
  {
   "cell_type": "code",
   "execution_count": 18,
   "id": "78a5dcdb-0c0b-4b8a-9afd-7854eca6454d",
   "metadata": {},
   "outputs": [],
   "source": [
    "def transcribe_audio(audio_path, language):\n",
    "    if not audio_path or not os.path.exists(audio_path):\n",
    "        return \"No audio file found.\"\n",
    "        \n",
    "    client = OpenAI()\n",
    "    audio_file = open(audio_path, \"rb\")\n",
    "    transcription = client.audio.transcriptions.create(\n",
    "        model=\"whisper-1\", \n",
    "        file=audio_file,\n",
    "        language=language,\n",
    "    )\n",
    "    return transcription.text\n",
    "\n",
    "def chat2turkish(message, history):\n",
    "    system_message_tr = \"Translate the message to Turkish\"\n",
    "    messages = [{\"role\": \"system\", \"content\": system_message_tr}] + history + [{\"role\": \"user\", \"content\": message}]\n",
    "    response = openai.chat.completions.create(model=MODEL, messages=messages)\n",
    "    return response.choices[0].message.content\n",
    "\n",
    "def chat2farsi(message, history):\n",
    "    system_message_fa = \"Translate the message to Farsi\"\n",
    "    messages = [{\"role\": \"system\", \"content\": system_message_fa}] + history + [{\"role\": \"user\", \"content\": message}]\n",
    "    response = openai.chat.completions.create(model=MODEL, messages=messages)\n",
    "    return response.choices[0].message.content\n",
    "\n",
    "\n",
    "def text_translate(message, language):\n",
    "    history = []\n",
    "    if language == 'fa':\n",
    "        translated_txt = chat2turkish(message, history)\n",
    "    elif language == 'tr':\n",
    "        translated_txt = chat2farsi(message, history)\n",
    "\n",
    "    return translated_txt\n",
    "\n",
    "\n",
    "def text2speech(message):\n",
    "    response = openai.audio.speech.create(\n",
    "      model=\"tts-1\",\n",
    "      voice=\"onyx\",    # Also, try replacing onyx with alloy\n",
    "      input=message\n",
    "    )\n",
    "    \n",
    "    path = \"translation.mp3\"\n",
    "    # Save the response content as an MP3 file\n",
    "    audio_file_path = path\n",
    "    with open(audio_file_path, \"wb\") as f:\n",
    "        f.write(response.content)\n",
    "\n",
    "    return path"
   ]
  },
  {
   "cell_type": "code",
   "execution_count": 19,
   "id": "43708aa7-e4f0-490d-b521-0d03917f36b6",
   "metadata": {},
   "outputs": [],
   "source": [
    "from pathlib import Path\n",
    "\n",
    "def voice_to_voice(audio_path, source_language):\n",
    "    # Transcribe the audio\n",
    "    transcription_response = transcribe_audio(audio_path, source_language)\n",
    "    # Translate \n",
    "    translated_text = text_translate(transcription_response, source_language)\n",
    "    # Convert texts to speech\n",
    "    translated_audio_path = text2speech(translated_text)\n",
    "    audio_path = Path(translated_audio_path)\n",
    "    return audio_path, transcription_response, translated_text"
   ]
  },
  {
   "cell_type": "code",
   "execution_count": 20,
   "id": "d07f9bc1-dd77-4565-b4e7-5d7e7e43029e",
   "metadata": {},
   "outputs": [
    {
     "name": "stdout",
     "output_type": "stream",
     "text": [
      "* Running on local URL:  http://127.0.0.1:7871\n",
      "\n",
      "To create a public link, set `share=True` in `launch()`.\n"
     ]
    },
    {
     "data": {
      "text/html": [
       "<div><iframe src=\"http://127.0.0.1:7871/\" width=\"100%\" height=\"500\" allow=\"autoplay; camera; microphone; clipboard-read; clipboard-write;\" frameborder=\"0\" allowfullscreen></iframe></div>"
      ],
      "text/plain": [
       "<IPython.core.display.HTML object>"
      ]
     },
     "metadata": {},
     "output_type": "display_data"
    },
    {
     "data": {
      "text/plain": []
     },
     "execution_count": 20,
     "metadata": {},
     "output_type": "execute_result"
    }
   ],
   "source": [
    "\n",
    "audio_input = gr.Audio(\n",
    "    sources=[\"microphone\"],\n",
    "    type=\"filepath\"\n",
    ")\n",
    "\n",
    "demo = gr.Interface(\n",
    "    fn = voice_to_voice,\n",
    "    inputs = [audio_input, gr.Dropdown([\"fa\", \"tr\"], label=\"Source Language\", value=\"fa\")],\n",
    "    outputs = [gr.Audio(label=\"Play Translation\"), gr.Textbox(label=\"Original Text:\", lines=3),\n",
    "               gr.Textbox(label=\"Translated Text:\", lines=3)]\n",
    ")\n",
    "\n",
    "demo.launch()"
   ]
  },
  {
   "cell_type": "code",
   "execution_count": null,
   "id": "b95e505a-1628-415e-9478-3ccb77ce870e",
   "metadata": {},
   "outputs": [],
   "source": []
  }
 ],
 "metadata": {
  "kernelspec": {
   "display_name": "Python 3 (ipykernel)",
   "language": "python",
   "name": "python3"
  },
  "language_info": {
   "codemirror_mode": {
    "name": "ipython",
    "version": 3
   },
   "file_extension": ".py",
   "mimetype": "text/x-python",
   "name": "python",
   "nbconvert_exporter": "python",
   "pygments_lexer": "ipython3",
   "version": "3.11.11"
  }
 },
 "nbformat": 4,
 "nbformat_minor": 5
}
